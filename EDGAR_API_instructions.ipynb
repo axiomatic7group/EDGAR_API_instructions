{
 "cells": [
  {
   "cell_type": "markdown",
   "metadata": {},
   "source": [
    "# Welcome to the EDGAR API Instructions\n",
    "\n",
    "### Table of Contents:\n",
    "* What is EDGAR?\n",
    "* How can I access the API?\n",
    "* What can I use the API for?\n",
    "* What can I do with this data?"
   ]
  },
  {
   "cell_type": "markdown",
   "metadata": {},
   "source": [
    "## What is EDGAR?\n",
    "\n",
    "EDGAR is the SEC Database trhough which all companies, domestic and foreign, are require to file their registration statement, periodic reports, and other forms electronically. The SEC then makes these forms available both trough the SEC EDGAR website, as well as, the SEC EDGAR API.\n",
    "\n",
    "* SEC EDGAR - for instructions for searching the EDGAR database\n",
    "    *   https://www.sec.gov/edgar\n",
    "* SEC EDGAR API - API Documantation/Instructions\n",
    "    *   https://www.sec.gov/edgar/sec-api-documentation\n"
   ]
  },
  {
   "cell_type": "markdown",
   "metadata": {},
   "source": [
    "## How can I access the API?\n",
    "\n",
    "To easily navigate the EDGAR API you will need to download a few additional resources provided to you through the EDGAR webiste.\n",
    "\n",
    "* Ticker, CIK, and name company list\n",
    "    * link: https://www.sec.gov/files/company_tickers.json\n",
    "        * for latest link scroll to the bottom of this page: https://www.sec.gov/os/accessing-edgar-data\n",
    "    * This is a complete list of all companies that have filled one or more forms with the SEC. The company Ticker are what is used to distinguishe the company's stock or stock class within the Stock Exchange it trades in. Stock Exchanges generally require unique Tickers as the unique identifying object for the system. These are generally consistent of one or more capital letters, generaly up to four or five, although not always, some stock exchanges may use a sequence of numbers or numbers and letter as their unique identifier. The CIK are the unique indetifiers created and attriubuted by the SEC for the management of it's database, as it over looks the filing for multiple exchanges, it is possible that tickers are not always unique for all companies filling. \n",
    "    * Having a complete ticker, CIK, and name list for the companies is important because it can help you identify the different companies you are looking for, but also the different share classes or types of shares within the same or different exchanges.\n",
    "\n",
    "With the complete ticker list downloaded (preferably within the same working directory as your working file for ease of use) we can get started. First we will create a function that takes the CIK as it is in the file and change them to fit the CIKXXXXXXXXX1 convention needed to make the resquests for data using the RESTful API from EDGAR. "
   ]
  },
  {
   "cell_type": "code",
   "execution_count": 13,
   "metadata": {},
   "outputs": [
    {
     "name": "stdout",
     "output_type": "stream",
     "text": [
      "This is the first ouput:\n",
      "CIK0000732717.json\n",
      "This is the second ouput:\n",
      "    cik_str ticker      title\n",
      "98   732717      T  AT&T INC.\n",
      "This is the complete ouput:\n",
      "('CIK0000732717.json',     cik_str ticker      title\n",
      "98   732717      T  AT&T INC.)\n"
     ]
    }
   ],
   "source": [
    "import pandas as pd \n",
    "import os\n",
    "\n",
    "cwd = os.getcwd()\n",
    "tickers = pd.read_json(cwd+'/company_tickers.json', orient='index')\n",
    "\n",
    "def get_cik(ticker, tickers):\n",
    "    cik = str(tickers[tickers['ticker']==str(ticker)]['cik_str'].iloc[0]).zfill(10)\n",
    "    cik = \"CIK\"+str(cik)+\".json\"\n",
    "    return cik, tickers[tickers['ticker']==ticker]\n",
    "\n",
    "print('This is the first ouput:')\n",
    "print(get_cik('T',tickers)[0])\n",
    "print('This is the second ouput:')\n",
    "print(get_cik('T',tickers)[1])\n",
    "print('This is the complete ouput:')\n",
    "print(get_cik('T',tickers))"
   ]
  },
  {
   "cell_type": "markdown",
   "metadata": {},
   "source": [
    "Now we can start looking through the SEC database using the company's ticker."
   ]
  },
  {
   "cell_type": "code",
   "execution_count": 110,
   "metadata": {},
   "outputs": [
    {
     "name": "stdout",
     "output_type": "stream",
     "text": [
      "http://data.sec.gov/api/xbrl/companyfacts/CIK0000320193.json\n",
      "dict_keys(['cik', 'entityName', 'facts'])\n",
      "dict_keys(['dei', 'us-gaap'])\n",
      "dict_keys(['EntityCommonStockSharesOutstanding', 'EntityPublicFloat'])\n",
      "dict_keys(['AccountsPayable', 'AccountsPayableCurrent', 'AccountsReceivableNetCurrent', 'AccruedIncomeTaxesCurrent', 'AccruedIncomeTaxesNoncurrent', 'AccruedLiabilities', 'AccruedLiabilitiesCurrent', 'AccruedMarketingCostsCurrent', 'AccumulatedDepreciationDepletionAndAmortizationPropertyPlantAndEquipment', 'AccumulatedOtherComprehensiveIncomeLossAvailableForSaleSecuritiesAdjustmentNetOfTax', 'AccumulatedOtherComprehensiveIncomeLossCumulativeChangesInNetGainLossFromCashFlowHedgesEffectNetOfTax', 'AccumulatedOtherComprehensiveIncomeLossForeignCurrencyTranslationAdjustmentNetOfTax', 'AccumulatedOtherComprehensiveIncomeLossNetOfTax', 'AdjustmentsToAdditionalPaidInCapitalSharebasedCompensationRequisiteServicePeriodRecognitionValue', 'AdjustmentsToAdditionalPaidInCapitalTaxEffectFromShareBasedCompensation', 'AdvertisingExpense', 'AllocatedShareBasedCompensationExpense', 'AllowanceForDoubtfulAccountsReceivableCurrent', 'AmortizationOfIntangibleAssets', 'AntidilutiveSecuritiesExcludedFromComputationOfEarningsPerShareAmount', 'Assets', 'AssetsCurrent', 'AssetsNoncurrent', 'AvailableForSaleDebtSecuritiesAccumulatedGrossUnrealizedGainBeforeTax', 'AvailableForSaleDebtSecuritiesAccumulatedGrossUnrealizedLossBeforeTax', 'AvailableForSaleDebtSecuritiesAmortizedCostBasis', 'AvailableForSaleSecurities', 'AvailableForSaleSecuritiesAccumulatedGrossUnrealizedGainBeforeTax', 'AvailableForSaleSecuritiesAccumulatedGrossUnrealizedLossBeforeTax', 'AvailableForSaleSecuritiesAmortizedCost', 'AvailableForSaleSecuritiesContinuousUnrealizedLossPosition12MonthsOrLongerAccumulatedLoss', 'AvailableForSaleSecuritiesContinuousUnrealizedLossPositionAccumulatedLoss', 'AvailableForSaleSecuritiesContinuousUnrealizedLossPositionFairValue', 'AvailableForSaleSecuritiesContinuousUnrealizedLossPositionLessThan12MonthsAccumulatedLoss', 'AvailableForSaleSecuritiesContinuousUnrealizedLossPositionLessThanTwelveMonthsFairValue', 'AvailableForSaleSecuritiesContinuousUnrealizedLossPositionTwelveMonthsOrLongerFairValue', 'AvailableForSaleSecuritiesCurrent', 'AvailableForSaleSecuritiesDebtMaturitiesRollingAfterYearTenFairValue', 'AvailableForSaleSecuritiesDebtMaturitiesRollingYearSixThroughTenFairValue', 'AvailableForSaleSecuritiesDebtMaturitiesRollingYearTwoThroughFiveFairValue', 'AvailableForSaleSecuritiesDebtMaturitiesSingleMaturityDate', 'AvailableForSaleSecuritiesDebtSecurities', 'AvailableForSaleSecuritiesDebtSecuritiesCurrent', 'AvailableForSaleSecuritiesDebtSecuritiesNoncurrent', 'AvailableForSaleSecuritiesFairValueDisclosure', 'AvailableForSaleSecuritiesGrossUnrealizedLosses1', 'AvailableForSaleSecuritiesNoncurrent', 'AvailableforsaleSecuritiesGrossUnrealizedGain', 'BusinessAcquisitionCostOfAcquiredEntityPurchasePrice', 'BusinessAcquisitionPurchasePriceAllocationAmortizableIntangibleAssets', 'BusinessAcquisitionPurchasePriceAllocationGoodwillAmount', 'BusinessAcquisitionPurchasePriceAllocationLiabilitiesAssumed', 'BusinessCombinationRecognizedIdentifiableAssetsAcquiredAndLiabilitiesAssumedIntangibleAssetsOtherThanGoodwill', 'BusinessCombinationRecognizedIdentifiableAssetsAcquiredAndLiabilitiesAssumedLiabilities', 'CapitalExpendituresIncurredButNotYetPaid', 'CapitalizedComputerSoftwareAdditions', 'CapitalizedComputerSoftwareAmortization', 'Cash', 'CashAndCashEquivalentsAtCarryingValue', 'CashAndCashEquivalentsPeriodIncreaseDecrease', 'CashCashEquivalentsRestrictedCashAndRestrictedCashEquivalents', 'CashCashEquivalentsRestrictedCashAndRestrictedCashEquivalentsPeriodIncreaseDecreaseIncludingExchangeRateEffect', 'CashEquivalentsAtCarryingValue', 'ChangeInUnrealizedGainLossOnFairValueHedgingInstruments', 'CollateralAlreadyPostedAggregateFairValue', 'CommercialPaper', 'CommitmentsAndContingencies', 'CommonStockDividendsPerShareCashPaid', 'CommonStockDividendsPerShareDeclared', 'CommonStockNoParValue', 'CommonStockParOrStatedValuePerShare', 'CommonStockSharesAuthorized', 'CommonStockSharesIssued', 'CommonStockSharesOutstanding', 'CommonStocksIncludingAdditionalPaidInCapital', 'CommonStockValue', 'ComprehensiveIncomeNetOfTax', 'ContractWithCustomerLiability', 'ContractWithCustomerLiabilityCurrent', 'ContractWithCustomerLiabilityRevenueRecognized', 'CostOfGoodsAndServicesSold', 'CostOfGoodsAndServicesSoldDepreciation', 'CostOfReimbursableExpense', 'CumulativeEffectOfInitialAdoptionOfFIN48', 'CumulativeEffectOfInitialAdoptionOfNewAccountingPrinciple', 'CurrentFederalTaxExpenseBenefit', 'CurrentForeignTaxExpenseBenefit', 'CurrentStateAndLocalTaxExpenseBenefit', 'DebtInstrumentCarryingAmount', 'DebtInstrumentUnamortizedDiscount', 'DebtInstrumentUnamortizedDiscountPremiumAndDebtIssuanceCostsNet', 'DebtInstrumentUnamortizedDiscountPremiumNet', 'DebtSecuritiesAvailableForSaleContinuousUnrealizedLossPosition12MonthsOrLonger', 'DebtSecuritiesAvailableForSaleContinuousUnrealizedLossPosition12MonthsOrLongerAccumulatedLoss', 'DebtSecuritiesAvailableForSaleContinuousUnrealizedLossPositionLessThan12Months', 'DebtSecuritiesAvailableForSaleContinuousUnrealizedLossPositionLessThan12MonthsAccumulatedLoss', 'DebtSecuritiesAvailableForSaleUnrealizedLossPosition', 'DebtSecuritiesAvailableForSaleUnrealizedLossPositionAccumulatedLoss', 'DecreaseInUnrecognizedTaxBenefitsIsReasonablyPossible', 'DeferredFederalIncomeTaxExpenseBenefit', 'DeferredForeignIncomeTaxExpenseBenefit', 'DeferredIncomeTaxExpenseBenefit', 'DeferredIncomeTaxLiabilities', 'DeferredIncomeTaxLiabilitiesNet', 'DeferredRevenueCurrent', 'DeferredRevenueNoncurrent', 'DeferredStateAndLocalIncomeTaxExpenseBenefit', 'DeferredTaxAssetsDeferredIncome', 'DeferredTaxAssetsGoodwillAndIntangibleAssets', 'DeferredTaxAssetsGross', 'DeferredTaxAssetsLiabilitiesNet', 'DeferredTaxAssetsLiabilitiesNetCurrent', 'DeferredTaxAssetsNet', 'DeferredTaxAssetsNetCurrent', 'DeferredTaxAssetsOther', 'DeferredTaxAssetsPropertyPlantAndEquipment', 'DeferredTaxAssetsTaxCreditCarryforwards', 'DeferredTaxAssetsTaxCreditCarryforwardsForeign', 'DeferredTaxAssetsTaxCreditCarryforwardsResearch', 'DeferredTaxAssetsTaxDeferredExpenseCompensationAndBenefitsShareBasedCompensationCost', 'DeferredTaxAssetsTaxDeferredExpenseReservesAndAccruals', 'DeferredTaxAssetsUnrealizedLossesOnAvailableforSaleSecuritiesGross', 'DeferredTaxAssetsValuationAllowance', 'DeferredTaxLiabilities', 'DeferredTaxLiabilitiesLeasingArrangements', 'DeferredTaxLiabilitiesNoncurrent', 'DeferredTaxLiabilitiesOther', 'DeferredTaxLiabilitiesOtherComprehensiveIncome', 'DeferredTaxLiabilitiesUndistributedForeignEarnings', 'DeferredTaxLiabilityNotRecognizedAmountOfUnrecognizedDeferredTaxLiabilityUndistributedEarningsOfForeignSubsidiaries', 'DefinedContributionPlanCostRecognized', 'DefinedContributionPlanMaximumAnnualContributionPerEmployeeAmount', 'DefinedContributionPlanMaximumAnnualContributionsPerEmployeeAmount', 'Depreciation', 'DepreciationAmortizationAndAccretionNet', 'DepreciationAndAmortization', 'DepreciationDepletionAndAmortization', 'DerivativeCollateralObligationToReturnCash', 'DerivativeFairValueOfDerivativeNet', 'DerivativeInstrumentsGainLossReclassifiedFromAccumulatedOCIIntoIncomeEffectivePortionNet', 'DerivativeInstrumentsGainLossRecognizedInIncomeIneffectivePortionAndAmountExcludedFromEffectivenessTestingNet', 'DerivativeInstrumentsGainLossRecognizedInOtherComprehensiveIncomeEffectivePortionNet', 'DerivativeInstrumentsNotDesignatedAsHedgingInstrumentsGainLossNet', 'Dividends', 'EarningsPerShareBasic', 'EarningsPerShareDiluted', 'EffectiveIncomeTaxRateContinuingOperations', 'EffectiveIncomeTaxRateReconciliationAtFederalStatutoryIncomeTaxRate', 'EffectiveIncomeTaxRateReconciliationForeignIncomeTaxRateDifferential', 'EffectiveIncomeTaxRateReconciliationShareBasedCompensationExcessTaxBenefitAmount', 'EffectiveIncomeTaxRateReconciliationTaxCutsAndJobsActOf2017Amount', 'EmployeeRelatedLiabilitiesCurrent', 'EmployeeServiceShareBasedCompensationCashFlowEffectCashUsedToSettleAwards', 'EmployeeServiceShareBasedCompensationNonvestedAwardsTotalCompensationCostNotYetRecognized', 'EmployeeServiceShareBasedCompensationNonvestedAwardsTotalCompensationCostNotYetRecognizedPeriodForRecognition', 'EmployeeServiceShareBasedCompensationTaxBenefitFromCompensationExpense', 'EmployeeServiceShareBasedCompensationUnrecognizedCompensationCostsOnNonvestedAwards', 'EmployeeServiceShareBasedCompensationUnrecognizedCompensationCostsOnNonvestedAwardsWeightedAveragePeriodOfRecognition', 'EquitySecuritiesWithoutReadilyDeterminableFairValueAmount', 'ExcessTaxBenefitFromShareBasedCompensationFinancingActivities', 'FairValueAssetsMeasuredOnRecurringBasisCashAndCashEquivalents', 'FairValueAssetsMeasuredOnRecurringBasisDerivativeFinancialInstrumentsAssets', 'FairValueHedgesAtFairValueNet', 'FairValueLiabilitiesMeasuredOnRecurringBasisDerivativeFinancialInstrumentsLiabilities', 'FederalIncomeTaxExpenseBenefitContinuingOperations', 'FinanceLeaseLiability', 'FinanceLeaseLiabilityCurrent', 'FinanceLeaseLiabilityNoncurrent', 'FinanceLeaseLiabilityPaymentsDue', 'FinanceLeaseLiabilityPaymentsDueAfterYearFive', 'FinanceLeaseLiabilityPaymentsDueNextTwelveMonths', 'FinanceLeaseLiabilityPaymentsDueYearFive', 'FinanceLeaseLiabilityPaymentsDueYearFour', 'FinanceLeaseLiabilityPaymentsDueYearThree', 'FinanceLeaseLiabilityPaymentsDueYearTwo', 'FinanceLeaseLiabilityPaymentsRemainderOfFiscalYear', 'FinanceLeaseLiabilityUndiscountedExcessAmount', 'FinanceLeaseRightOfUseAsset', 'FiniteLivedIntangibleAssetsAccumulatedAmortization', 'FiniteLivedIntangibleAssetsAmortizationExpense', 'FiniteLivedIntangibleAssetsAmortizationExpenseAfterYearFive', 'FiniteLivedIntangibleAssetsAmortizationExpenseNextTwelveMonths', 'FiniteLivedIntangibleAssetsAmortizationExpenseYearFive', 'FiniteLivedIntangibleAssetsAmortizationExpenseYearFour', 'FiniteLivedIntangibleAssetsAmortizationExpenseYearThree', 'FiniteLivedIntangibleAssetsAmortizationExpenseYearTwo', 'FiniteLivedIntangibleAssetsGross', 'FiniteLivedIntangibleAssetsNet', 'FiniteLivedIntangibleAssetsUsefulLifeMaximum', 'FiniteLivedIntangibleAssetsUsefulLifeMinimum', 'ForeignCurrencyDerivativeAssetsAtFairValue', 'ForeignCurrencyDerivativeInstrumentsNotDesignatedAsHedgingInstrumentsAssetAtFairValue', 'ForeignCurrencyDerivativeInstrumentsNotDesignatedAsHedgingInstrumentsLiabilityAtFairValue', 'ForeignCurrencyDerivativeLiabilitiesAtFairValue', 'ForeignIncomeTaxExpenseBenefitContinuingOperations', 'FurnitureAndFixturesGross', 'FutureAmortizationExpenseYearFive', 'FutureAmortizationExpenseYearFour', 'FutureAmortizationExpenseYearOne', 'FutureAmortizationExpenseYearThree', 'FutureAmortizationExpenseYearTwo', 'GainLossFromComponentsExcludedFromAssessmentOfFairValueHedgeEffectivenessNet', 'GainLossOnSaleOfPropertyPlantEquipment', 'Goodwill', 'GoodwillAcquiredDuringPeriod', 'GoodwillImpairmentLoss', 'GrossProfit', 'HeldToMaturitySecurities', 'ImpairmentOfIntangibleAssetsExcludingGoodwill', 'ImpairmentOfIntangibleAssetsIndefinitelivedExcludingGoodwill', 'IncomeLossFromContinuingOperationsBeforeIncomeTaxesExtraordinaryItemsNoncontrollingInterest', 'IncomeLossFromContinuingOperationsBeforeIncomeTaxesForeign', 'IncomeLossFromContinuingOperationsBeforeIncomeTaxesMinorityInterestAndIncomeLossFromEquityMethodInvestments', 'IncomeTaxExaminationInterestExpense', 'IncomeTaxExpenseBenefit', 'IncomeTaxesPaidNet', 'IncomeTaxReconciliationDeductionsQualifiedProductionActivities', 'IncomeTaxReconciliationForeignIncomeTaxRateDifferential', 'IncomeTaxReconciliationIncomeTaxExpenseBenefitAtFederalStatutoryIncomeTaxRate', 'IncomeTaxReconciliationNondeductibleExpenseShareBasedCompensationCost', 'IncomeTaxReconciliationOtherAdjustments', 'IncomeTaxReconciliationOtherReconcilingItems', 'IncomeTaxReconciliationStateAndLocalIncomeTaxes', 'IncomeTaxReconciliationTaxContingenciesDomestic', 'IncomeTaxReconciliationTaxCreditsResearch', 'IncomeTaxReconciliationTaxSettlementsDomestic', 'IncreaseDecreaseInAccountsPayable', 'IncreaseDecreaseInAccountsReceivable', 'IncreaseDecreaseInContractWithCustomerLiability', 'IncreaseDecreaseInDeferredRevenue', 'IncreaseDecreaseInInventories', 'IncreaseDecreaseInOtherOperatingAssets', 'IncreaseDecreaseInOtherOperatingLiabilities', 'IncreaseDecreaseInOtherReceivables', 'IndefiniteLivedIntangibleAssetsExcludingGoodwill', 'IntangibleAssetsGrossExcludingGoodwill', 'IntangibleAssetsNetExcludingGoodwill', 'InterestCostsIncurred', 'InterestExpense', 'InterestExpenseDebt', 'InterestPaid', 'InterestPaidNet', 'InventoryFinishedGoodsNetOfReserves', 'InventoryNet', 'InventoryPartsAndComponentsNetOfReserves', 'InvestmentIncomeInterestAndDividend', 'LeaseAndRentalExpense', 'LeaseholdImprovementsGross', 'LesseeOperatingLeaseLiabilityPaymentsDue', 'LesseeOperatingLeaseLiabilityPaymentsDueAfterYearFive', 'LesseeOperatingLeaseLiabilityPaymentsDueNextTwelveMonths', 'LesseeOperatingLeaseLiabilityPaymentsDueYearFive', 'LesseeOperatingLeaseLiabilityPaymentsDueYearFour', 'LesseeOperatingLeaseLiabilityPaymentsDueYearThree', 'LesseeOperatingLeaseLiabilityPaymentsDueYearTwo', 'LesseeOperatingLeaseLiabilityPaymentsRemainderOfFiscalYear', 'LesseeOperatingLeaseLiabilityUndiscountedExcessAmount', 'Liabilities', 'LiabilitiesAndStockholdersEquity', 'LiabilitiesCurrent', 'LiabilitiesNoncurrent', 'LongTermDebt', 'LongTermDebtCurrent', 'LongTermDebtMaturitiesRepaymentsOfPrincipalAfterYearFive', 'LongTermDebtMaturitiesRepaymentsOfPrincipalInNextTwelveMonths', 'LongTermDebtMaturitiesRepaymentsOfPrincipalInYearFive', 'LongTermDebtMaturitiesRepaymentsOfPrincipalInYearFour', 'LongTermDebtMaturitiesRepaymentsOfPrincipalInYearThree', 'LongTermDebtMaturitiesRepaymentsOfPrincipalInYearTwo', 'LongTermDebtMaturitiesRepaymentsOfPrincipalRemainderOfFiscalYear', 'LongTermDebtNoncurrent', 'LongTermPurchaseCommitmentAmount', 'MarketableSecuritiesCurrent', 'MarketableSecuritiesNoncurrent', 'MarketableSecuritiesRealizedGainLoss', 'MarketingExpense', 'NetCashProvidedByUsedInFinancingActivities', 'NetCashProvidedByUsedInFinancingActivitiesContinuingOperations', 'NetCashProvidedByUsedInInvestingActivities', 'NetCashProvidedByUsedInInvestingActivitiesContinuingOperations', 'NetCashProvidedByUsedInOperatingActivities', 'NetCashProvidedByUsedInOperatingActivitiesContinuingOperations', 'NetIncomeLoss', 'NoncurrentAssets', 'NonoperatingIncomeExpense', 'NontradeReceivablesCurrent', 'NotionalAmountOfForeignCurrencyDerivativeInstrumentsNotDesignatedAsHedgingInstruments', 'NumberOfStores', 'OciBeforeReclassificationsBeforeTaxAttributableToParent', 'OperatingExpenses', 'OperatingIncomeLoss', 'OperatingLeaseCost', 'OperatingLeaseLiability', 'OperatingLeaseLiabilityCurrent', 'OperatingLeaseLiabilityNoncurrent', 'OperatingLeasePayments', 'OperatingLeaseRightOfUseAsset', 'OperatingLeasesFutureMinimumPaymentsDue', 'OperatingLeasesFutureMinimumPaymentsDueCurrent', 'OperatingLeasesFutureMinimumPaymentsDueInFiveYears', 'OperatingLeasesFutureMinimumPaymentsDueInFourYears', 'OperatingLeasesFutureMinimumPaymentsDueInThreeYears', 'OperatingLeasesFutureMinimumPaymentsDueInTwoYears', 'OperatingLeasesFutureMinimumPaymentsDueThereafter', 'OperatingLeasesRentExpenseNet', 'OtherAccruedLiabilitiesCurrent', 'OtherAccruedLiabilitiesNoncurrent', 'OtherAssetsCurrent', 'OtherAssetsNoncurrent', 'OtherComprehensiveIncomeAvailableForSaleSecuritiesAdjustmentNetOfTaxPeriodIncreaseDecrease', 'OtherComprehensiveIncomeDerivativesQualifyingAsHedgesNetOfTaxPeriodIncreaseDecrease', 'OtherComprehensiveIncomeForeignCurrencyTransactionAndTranslationAdjustmentNetOfTaxPeriodIncreaseDecrease', 'OtherComprehensiveIncomeLossAvailableForSaleSecuritiesAdjustmentNetOfTax', 'OtherComprehensiveIncomeLossBeforeReclassificationsBeforeTax', 'OtherComprehensiveIncomeLossBeforeReclassificationsNetOfTax', 'OtherComprehensiveIncomeLossCashFlowHedgeGainLossBeforeReclassificationAndTax', 'OtherComprehensiveIncomeLossCashFlowHedgeGainLossReclassificationAfterTax', 'OtherComprehensiveIncomeLossCashFlowHedgeGainLossReclassificationBeforeTax', 'OtherComprehensiveIncomeLossDerivativeExcludedComponentIncreaseDecreaseBeforeAdjustmentsAndTax', 'OtherComprehensiveIncomeLossDerivativesQualifyingAsHedgesNetOfTax', 'OtherComprehensiveIncomeLossForeignCurrencyTransactionAndTranslationAdjustmentNetOfTax', 'OtherComprehensiveIncomeLossForeignCurrencyTranslationAdjustmentTax', 'OtherComprehensiveIncomeLossNetOfTax', 'OtherComprehensiveIncomeLossNetOfTaxPortionAttributableToParent', 'OtherComprehensiveIncomeLossReclassificationAdjustmentForSaleOfSecuritiesIncludedInNetIncomeNetOfTax', 'OtherComprehensiveIncomeLossReclassificationAdjustmentFromAOCIForSaleOfSecuritiesBeforeTax', 'OtherComprehensiveIncomeLossReclassificationAdjustmentFromAOCIForSaleOfSecuritiesNetOfTax', 'OtherComprehensiveIncomeLossReclassificationAdjustmentFromAOCIForSaleOfSecuritiesTax', 'OtherComprehensiveIncomeLossReclassificationAdjustmentFromAOCIOnDerivativesBeforeTax', 'OtherComprehensiveIncomeLossReclassificationAdjustmentFromAOCIOnDerivativesNetOfTax', 'OtherComprehensiveIncomeLossReclassificationAdjustmentFromAOCIOnDerivativesTax', 'OtherComprehensiveIncomeLossReclassificationAdjustmentOnDerivativesIncludedInNetIncomeNetOfTax', 'OtherComprehensiveIncomeLossReclassificationAdjustmentOnDerivativesIncludedInNetIncomeTax', 'OtherComprehensiveIncomeLossTax', 'OtherComprehensiveIncomeLossTaxPortionAttributableToParent1', 'OtherComprehensiveIncomeReclassificationAdjustmentOnDerivativesIncludedInNetIncomeNetOfTax', 'OtherComprehensiveIncomeReclassificationAdjustmentOnDerivativesIncludedInNetIncomeTax', 'OtherComprehensiveIncomeUnrealizedGainLossOnDerivativesArisingDuringPeriodNetOfTax', 'OtherComprehensiveIncomeUnrealizedGainLossOnDerivativesArisingDuringPeriodTax', 'OtherComprehensiveIncomeUnrealizedHoldingGainLossOnSecuritiesArisingDuringPeriodNetOfTax', 'OtherComprehensiveIncomeUnrealizedHoldingGainLossOnSecuritiesArisingDuringPeriodTax', 'OtherDeferredCreditsCurrent', 'OtherLiabilitiesCurrent', 'OtherLiabilitiesNoncurrent', 'OtherNoncashIncomeExpense', 'OtherNonoperatingIncomeExpense', 'OtherPrepaidExpenseCurrent', 'OtherShortTermBorrowings', 'PaymentsForProceedsFromOtherInvestingActivities', 'PaymentsForRepurchaseOfCommonStock', 'PaymentsOfDividends', 'PaymentsOfDividendsCommonStock', 'PaymentsRelatedToTaxWithholdingForShareBasedCompensation', 'PaymentsToAcquireAvailableForSaleSecurities', 'PaymentsToAcquireAvailableForSaleSecuritiesDebt', 'PaymentsToAcquireBusinessesNetOfCashAcquired', 'PaymentsToAcquireIntangibleAssets', 'PaymentsToAcquireOtherInvestments', 'PaymentsToAcquireProductiveAssets', 'PaymentsToAcquirePropertyPlantAndEquipment', 'PreferredStockSharesAuthorized', 'PrepaidExpenseOtherNoncurrent', 'ProceedsFromIssuanceOfCommonStock', 'ProceedsFromIssuanceOfLongTermDebt', 'ProceedsFromMaturitiesPrepaymentsAndCallsOfAvailableForSaleSecurities', 'ProceedsFromOtherShortTermDebt', 'ProceedsFromPaymentsForOtherFinancingActivities', 'ProceedsFromRepaymentsOfCommercialPaper', 'ProceedsFromRepaymentsOfShortTermDebt', 'ProceedsFromRepaymentsOfShortTermDebtMaturingInMoreThanThreeMonths', 'ProceedsFromRepaymentsOfShortTermDebtMaturingInThreeMonthsOrLess', 'ProceedsFromSaleAndMaturityOfOtherInvestments', 'ProceedsFromSaleOfAvailableForSaleSecurities', 'ProceedsFromSaleOfAvailableForSaleSecuritiesDebt', 'ProceedsFromShortTermDebtMaturingInMoreThanThreeMonths', 'ProductWarrantyAccrualClassifiedCurrent', 'ProductWarrantyAccrualPayments', 'ProductWarrantyAccrualWarrantiesIssued', 'ProductWarrantyExpense', 'PropertyPlantAndEquipmentGross', 'PropertyPlantAndEquipmentNet', 'ReclassificationFromAccumulatedOtherComprehensiveIncomeCurrentPeriodBeforeTax', 'ReclassificationFromAccumulatedOtherComprehensiveIncomeCurrentPeriodNetOfTax', 'ReclassificationFromAociCurrentPeriodBeforeTaxAttributableToParent', 'RepaymentsOfLongTermDebt', 'RepaymentsOfOtherShortTermDebt', 'RepaymentsOfShortTermDebtMaturingInMoreThanThreeMonths', 'ResearchAndDevelopmentExpense', 'RestrictedCash', 'RestrictedCashAndCashEquivalentsAtCarryingValue', 'RestrictedCashAndCashEquivalentsNoncurrent', 'RestrictedInvestments', 'RetainedEarningsAccumulatedDeficit', 'RevenueFromContractWithCustomerExcludingAssessedTax', 'Revenues', 'SalesRevenueNet', 'SalesRevenueServicesGross', 'SecuritiesSoldUnderAgreementsToRepurchaseFairValueOfCollateral', 'SegmentReportingInformationOperatingIncomeLoss', 'SegmentReportingReconcilingItemsAssets', 'SegmentReportingSegmentAssets', 'SellingGeneralAndAdministrativeExpense', 'ShareBasedCompensation', 'ShareBasedCompensationArrangementByShareBasedPaymentAwardEquityInstrumentsOtherThanOptionsForfeitedInPeriod', 'ShareBasedCompensationArrangementByShareBasedPaymentAwardEquityInstrumentsOtherThanOptionsForfeitedInPeriodWeightedAverageGrantDateFairValue', 'ShareBasedCompensationArrangementByShareBasedPaymentAwardEquityInstrumentsOtherThanOptionsForfeituresWeightedAverageGrantDateFairValue', 'ShareBasedCompensationArrangementByShareBasedPaymentAwardEquityInstrumentsOtherThanOptionsGrantsInPeriod', 'ShareBasedCompensationArrangementByShareBasedPaymentAwardEquityInstrumentsOtherThanOptionsGrantsInPeriodWeightedAverageGrantDateFairValue', 'ShareBasedCompensationArrangementByShareBasedPaymentAwardEquityInstrumentsOtherThanOptionsNonvestedIntrinsicValue', 'ShareBasedCompensationArrangementByShareBasedPaymentAwardEquityInstrumentsOtherThanOptionsNonvestedNumber', 'ShareBasedCompensationArrangementByShareBasedPaymentAwardEquityInstrumentsOtherThanOptionsNonvestedWeightedAverageGrantDateFairValue', 'ShareBasedCompensationArrangementByShareBasedPaymentAwardEquityInstrumentsOtherThanOptionsVestedInPeriod', 'ShareBasedCompensationArrangementByShareBasedPaymentAwardEquityInstrumentsOtherThanOptionsVestedInPeriodTotalFairValue', 'ShareBasedCompensationArrangementByShareBasedPaymentAwardEquityInstrumentsOtherThanOptionsVestedInPeriodWeightedAverageGrantDateFairValue', 'ShareBasedCompensationArrangementByShareBasedPaymentAwardFairValueAssumptionsExpectedDividendRate', 'ShareBasedCompensationArrangementByShareBasedPaymentAwardFairValueAssumptionsExpectedTerm', 'ShareBasedCompensationArrangementByShareBasedPaymentAwardFairValueAssumptionsRiskFreeInterestRate', 'ShareBasedCompensationArrangementByShareBasedPaymentAwardFairValueAssumptionsWeightedAverageVolatilityRate', 'ShareBasedCompensationArrangementByShareBasedPaymentAwardNumberOfSharesAvailableForGrant', 'ShareBasedCompensationArrangementByShareBasedPaymentAwardOptionsExercisableIntrinsicValue', 'ShareBasedCompensationArrangementByShareBasedPaymentAwardOptionsExercisableNumber', 'ShareBasedCompensationArrangementByShareBasedPaymentAwardOptionsExercisableWeightedAverageExercisePrice', 'ShareBasedCompensationArrangementByShareBasedPaymentAwardOptionsExercisableWeightedAverageRemainingContractualTerm', 'ShareBasedCompensationArrangementByShareBasedPaymentAwardOptionsExercisesInPeriod', 'ShareBasedCompensationArrangementByShareBasedPaymentAwardOptionsExercisesInPeriodTotalIntrinsicValue', 'ShareBasedCompensationArrangementByShareBasedPaymentAwardOptionsExercisesInPeriodWeightedAverageExercisePrice', 'ShareBasedCompensationArrangementByShareBasedPaymentAwardOptionsForfeituresInPeriod', 'ShareBasedCompensationArrangementByShareBasedPaymentAwardOptionsForfeituresInPeriodWeightedAverageExercisePrice', 'ShareBasedCompensationArrangementByShareBasedPaymentAwardOptionsGrantsInPeriod', 'ShareBasedCompensationArrangementByShareBasedPaymentAwardOptionsGrantsInPeriodWeightedAverageExercisePrice', 'ShareBasedCompensationArrangementByShareBasedPaymentAwardOptionsGrantsInPeriodWeightedAverageGrantDateFairValue', 'ShareBasedCompensationArrangementByShareBasedPaymentAwardOptionsOtherIncreasesDecreasesInPeriod', 'ShareBasedCompensationArrangementByShareBasedPaymentAwardOptionsOutstandingIntrinsicValue', 'ShareBasedCompensationArrangementByShareBasedPaymentAwardOptionsOutstandingNumber', 'ShareBasedCompensationArrangementByShareBasedPaymentAwardOptionsOutstandingWeightedAverageExercisePrice', 'ShareBasedCompensationArrangementByShareBasedPaymentAwardOptionsOutstandingWeightedAverageRemainingContractualTerm', 'ShareBasedCompensationArrangementByShareBasedPaymentAwardOptionsVestedAndExpectedToVestOutstandingNumber', 'ShareBasedCompensationArrangementsByShareBasedPaymentAwardOptionsExercisesInPeriodWeightedAverageExercisePrice', 'ShareBasedCompensationArrangementsByShareBasedPaymentAwardOptionsForfeituresInPeriodWeightedAverageExercisePrice', 'ShareBasedCompensationArrangementsByShareBasedPaymentAwardOptionsGrantsInPeriodWeightedAverageExercisePrice', 'SharebasedCompensationArrangementBySharebasedPaymentAwardEquityInstrumentsOtherThanOptionsAggregateIntrinsicValueNonvested', 'SharebasedCompensationArrangementBySharebasedPaymentAwardOptionsExercisableIntrinsicValue1', 'SharebasedCompensationArrangementBySharebasedPaymentAwardOptionsOutstandingWeightedAverageRemainingContractualTerm1', 'SharesPaidForTaxWithholdingForShareBasedCompensation', 'ShortTermDebtWeightedAverageInterestRate', 'SignificantChangeInUnrecognizedTaxBenefitsIsReasonablyPossibleEstimatedRangeOfChangeLowerBound', 'SignificantChangeInUnrecognizedTaxBenefitsIsReasonablyPossibleEstimatedRangeOfChangeUpperBound', 'StandardProductWarrantyAccrual', 'StandardProductWarrantyAccrualPayments', 'StandardProductWarrantyAccrualWarrantiesIssued', 'StateAndLocalIncomeTaxExpenseBenefitContinuingOperations', 'StockholdersEquity', 'StockholdersEquityNoteStockSplitConversionRatio1', 'StockIssuedDuringPeriodSharesStockOptionsExercised', 'StockIssuedDuringPeriodValueAcquisitions', 'StockIssuedDuringPeriodValueShareBasedCompensation', 'StockRepurchasedAndRetiredDuringPeriodShares', 'StockRepurchasedAndRetiredDuringPeriodValue', 'StockRepurchaseProgramAuthorizedAmount', 'StockRepurchaseProgramAuthorizedAmount1', 'TaxAdjustmentsSettlementsAndUnusualProvisions', 'TaxesPayableCurrent', 'TranslationAdjustmentForNetInvestmentHedgeNetOfTax', 'TreasuryStockValueAcquiredCostMethod', 'UndistributedEarningsOfForeignSubsidiaries', 'UnrecognizedTaxBenefits', 'UnrecognizedTaxBenefitsDecreasesResultingFromPriorPeriodTaxPositions', 'UnrecognizedTaxBenefitsDecreasesResultingFromSettlementsWithTaxingAuthorities', 'UnrecognizedTaxBenefitsIncomeTaxPenaltiesAndInterestAccrued', 'UnrecognizedTaxBenefitsIncomeTaxPenaltiesAndInterestExpense', 'UnrecognizedTaxBenefitsIncreasesResultingFromCurrentPeriodTaxPositions', 'UnrecognizedTaxBenefitsIncreasesResultingFromPriorPeriodTaxPositions', 'UnrecognizedTaxBenefitsPeriodIncreaseDecrease', 'UnrecognizedTaxBenefitsReductionsResultingFromLapseOfApplicableStatuteOfLimitations', 'UnrecognizedTaxBenefitsThatWouldImpactEffectiveTaxRate', 'UnrecordedUnconditionalPurchaseObligationBalanceOnFifthAnniversary', 'UnrecordedUnconditionalPurchaseObligationBalanceOnFirstAnniversary', 'UnrecordedUnconditionalPurchaseObligationBalanceOnFourthAnniversary', 'UnrecordedUnconditionalPurchaseObligationBalanceOnSecondAnniversary', 'UnrecordedUnconditionalPurchaseObligationBalanceOnThirdAnniversary', 'UnrecordedUnconditionalPurchaseObligationBalanceSheetAmount', 'UnrecordedUnconditionalPurchaseObligationDueAfterFiveYears', 'VariableLeaseCost', 'WeightedAverageNumberDilutedSharesOutstandingAdjustment', 'WeightedAverageNumberOfDilutedSharesOutstanding', 'WeightedAverageNumberOfSharesOutstandingBasic', 'DeferredTaxAssetsOtherComprehensiveLoss', 'EffectiveIncomeTaxRateReconciliationFdiiAmount', 'DebtSecuritiesAvailableForSaleRestricted', 'InventoryWorkInProcessAndRawMaterialsNetOfReserves', 'UnrecordedUnconditionalPurchaseObligationDueInRemainderOfFiscalYear', 'InventoryRawMaterialsAndPurchasedPartsNetOfReserves', 'HedgedAssetFairValueHedge', 'HedgedLiabilityFairValueHedge'])\n"
     ]
    }
   ],
   "source": [
    "import requests\n",
    "\n",
    "cik = get_cik('AAPL', tickers)\n",
    "url = \"http://data.sec.gov/api/xbrl/companyfacts/\"\n",
    "headers = {\n",
    "    \"User-Agent\": \"A X ax7@pt.me\",\n",
    "    \"Accept-Encoding\": \"gzip, deflate, br\",\n",
    "    \"Host\": \"data.sec.gov\"}\n",
    "url = url+str(cik[0])\n",
    "print(url)\n",
    "response = requests.get(url=url, headers=headers)\n",
    "response = response.json()\n",
    "print(response.keys())\n",
    "\n",
    "tmp_facts = response['facts']\n",
    "print(tmp_facts.keys())\n",
    "\n",
    "tmp_dei = tmp_facts['dei']\n",
    "#tmp_invest = tmp_facts['invest']\n",
    "tmp_us_gaap = tmp_facts['us-gaap']\n",
    "print(tmp_dei.keys())\n",
    "#print(tmp_invest.keys())\n",
    "print(tmp_us_gaap.keys())"
   ]
  },
  {
   "cell_type": "code",
   "execution_count": 112,
   "metadata": {},
   "outputs": [
    {
     "name": "stdout",
     "output_type": "stream",
     "text": [
      "label          Finite-Lived Intangible Assets, Useful Life, M...\n",
      "description    The maximum useful life of a major finite-live...\n",
      "units.pure     [{'start': '2009-09-27', 'end': '2010-09-25', ...\n",
      "units.Year     [{'start': '2010-09-26', 'end': '2011-09-24', ...\n",
      "Name: 0, dtype: object\n",
      "label          Finite-Lived Intangible Assets, Useful Life, M...\n",
      "description    The minimum useful life of a major finite-live...\n",
      "units.pure     [{'start': '2009-09-27', 'end': '2010-09-25', ...\n",
      "units.Year     [{'start': '2010-09-26', 'end': '2011-09-24', ...\n",
      "Name: 0, dtype: object\n",
      "label          Share-based Compensation Arrangement by Share-...\n",
      "description    The weighted average period between the balanc...\n",
      "units.pure     [{'start': '2009-09-27', 'end': '2010-06-26', ...\n",
      "units.Year     [{'start': '2010-09-26', 'end': '2011-03-26', ...\n",
      "Name: 0, dtype: object\n",
      "                                                label  \\\n",
      "0            Accounts Payable (Deprecated 2009-01-31)   \n",
      "0                           Accounts Payable, Current   \n",
      "0   Accounts Receivable, after Allowance for Credi...   \n",
      "0                       Accrued Income Taxes, Current   \n",
      "0                    Accrued Income Taxes, Noncurrent   \n",
      "..                                                ...   \n",
      "0   Inventory, Work in Process and Raw Materials, ...   \n",
      "0   Unrecorded Unconditional Purchase Obligation, ...   \n",
      "0   Inventory, Raw Materials and Purchased Parts, ...   \n",
      "0                      Hedged Asset, Fair Value Hedge   \n",
      "0                  Hedged Liability, Fair Value Hedge   \n",
      "\n",
      "                                          description  \\\n",
      "0   Carrying value as of the balance sheet date of...   \n",
      "0   Carrying value as of the balance sheet date of...   \n",
      "0   Amount, after allowance for credit loss, of ri...   \n",
      "0   Carrying amount as of the balance sheet date o...   \n",
      "0   Carrying amount as of the balance sheet date o...   \n",
      "..                                                ...   \n",
      "0   The aggregate carrying amount, net of valuatio...   \n",
      "0   Amount of fixed and determinable portion of un...   \n",
      "0   Carrying amount, net of valuation reserves and...   \n",
      "0   Amount of asset hedged in fair value hedging r...   \n",
      "0   Amount of liability hedged in fair value hedgi...   \n",
      "\n",
      "                                                units  \n",
      "0   [{'end': '2008-09-27', 'val': 5520000000, 'acc...  \n",
      "0   [{'end': '2008-09-27', 'val': 5520000000, 'acc...  \n",
      "0   [{'end': '2008-09-27', 'val': 2422000000, 'acc...  \n",
      "0   [{'end': '2009-09-26', 'val': 430000000, 'accn...  \n",
      "0   [{'end': '2017-09-30', 'val': 257000000, 'accn...  \n",
      "..                                                ...  \n",
      "0   [{'end': '2022-09-24', 'val': 1637000000, 'acc...  \n",
      "0   [{'end': '2022-12-31', 'val': 2899000000, 'acc...  \n",
      "0   [{'end': '2022-09-24', 'val': 1637000000, 'acc...  \n",
      "0   [{'end': '2022-09-24', 'val': 13378000000, 'ac...  \n",
      "0   [{'end': '2022-09-24', 'val': 18739000000, 'ac...  \n",
      "\n",
      "[491 rows x 3 columns]\n"
     ]
    }
   ],
   "source": [
    "tmp_us_gaap_df = pd.DataFrame(columns=['label', 'description', 'units'])\n",
    "\n",
    "for i, e in enumerate(tmp_us_gaap.keys()):\n",
    "    temp_df = pd.json_normalize(tmp_us_gaap[e])\n",
    "    if len(temp_df.columns) == 3:\n",
    "        #compile dataframe with aall labels, description, and dict with the data\n",
    "        temp_df.columns = ['label', 'description', 'units']\n",
    "        tmp_us_gaap_df = pd.concat([tmp_us_gaap_df, temp_df], axis=0)\n",
    "    else:\n",
    "        #filter out and show us the none pure items\n",
    "        print(temp_df.loc[0])\n",
    "    \n",
    "print(tmp_us_gaap_df)"
   ]
  },
  {
   "cell_type": "code",
   "execution_count": 121,
   "metadata": {},
   "outputs": [
    {
     "name": "stdout",
     "output_type": "stream",
     "text": [
      "Advertising Expense\n",
      "Advertising Expense\n",
      "Amount charged to advertising expense for the period, which are expenses incurred with the objective of increasing revenue for a specified brand, product or product line.\n",
      "         start         end         val                  accn    fy  fp  form  \\\n",
      "0   2007-09-30  2008-09-27   486000000  0001193125-10-238044  2010  FY  10-K   \n",
      "1   2008-09-28  2009-09-26   501000000  0001193125-11-282113  2011  FY  10-K   \n",
      "2   2008-09-28  2009-09-26   501000000  0001193125-10-238044  2010  FY  10-K   \n",
      "3   2009-09-27  2010-09-25   691000000  0001193125-13-170623  2012  FY   8-K   \n",
      "4   2009-09-27  2010-09-25   691000000  0001193125-12-444068  2012  FY  10-K   \n",
      "5   2009-09-27  2010-09-25   691000000  0001193125-11-282113  2011  FY  10-K   \n",
      "6   2009-09-27  2010-09-25   691000000  0001193125-10-238044  2010  FY  10-K   \n",
      "7   2010-09-26  2011-09-24   933000000  0001193125-13-416534  2013  FY  10-K   \n",
      "8   2010-09-26  2011-09-24   933000000  0001193125-13-170623  2012  FY   8-K   \n",
      "9   2010-09-26  2011-09-24   933000000  0001193125-12-444068  2012  FY  10-K   \n",
      "10  2010-09-26  2011-09-24   933000000  0001193125-11-282113  2011  FY  10-K   \n",
      "11  2011-09-25  2012-09-29  1000000000  0001193125-15-023732  2014  FY   8-K   \n",
      "12  2011-09-25  2012-09-29  1000000000  0001193125-14-383437  2014  FY  10-K   \n",
      "13  2011-09-25  2012-09-29  1000000000  0001193125-13-416534  2013  FY  10-K   \n",
      "14  2011-09-25  2012-09-29  1000000000  0001193125-13-170623  2012  FY   8-K   \n",
      "15  2011-09-25  2012-09-29  1000000000  0001193125-12-444068  2012  FY  10-K   \n",
      "16  2012-09-30  2013-09-28  1100000000  0001193125-15-356351  2015  FY  10-K   \n",
      "17  2012-09-30  2013-09-28  1100000000  0001193125-15-023732  2014  FY   8-K   \n",
      "18  2012-09-30  2013-09-28  1100000000  0001193125-14-383437  2014  FY  10-K   \n",
      "19  2012-09-30  2013-09-28  1100000000  0001193125-13-416534  2013  FY  10-K   \n",
      "20  2013-09-29  2014-09-27  1200000000  0001193125-15-356351  2015  FY  10-K   \n",
      "21  2013-09-29  2014-09-27  1200000000  0001193125-15-023732  2014  FY   8-K   \n",
      "22  2013-09-29  2014-09-27  1200000000  0001193125-14-383437  2014  FY  10-K   \n",
      "23  2014-09-28  2015-09-26  1800000000  0001193125-15-356351  2015  FY  10-K   \n",
      "\n",
      "         filed   frame  \n",
      "0   2010-10-27  CY2008  \n",
      "1   2011-10-26  CY2009  \n",
      "2   2010-10-27     NaN  \n",
      "3   2013-04-24  CY2010  \n",
      "4   2012-10-31     NaN  \n",
      "5   2011-10-26     NaN  \n",
      "6   2010-10-27     NaN  \n",
      "7   2013-10-30  CY2011  \n",
      "8   2013-04-24     NaN  \n",
      "9   2012-10-31     NaN  \n",
      "10  2011-10-26     NaN  \n",
      "11  2015-01-28  CY2012  \n",
      "12  2014-10-27     NaN  \n",
      "13  2013-10-30     NaN  \n",
      "14  2013-04-24     NaN  \n",
      "15  2012-10-31     NaN  \n",
      "16  2015-10-28  CY2013  \n",
      "17  2015-01-28     NaN  \n",
      "18  2014-10-27     NaN  \n",
      "19  2013-10-30     NaN  \n",
      "20  2015-10-28  CY2014  \n",
      "21  2015-01-28     NaN  \n",
      "22  2014-10-27     NaN  \n",
      "23  2015-10-28  CY2015  \n"
     ]
    }
   ],
   "source": [
    "label_list = list(tmp_us_gaap_df['label'])\n",
    "label = label_list[15]\n",
    "\n",
    "data_df = pd.json_normalize(tmp_us_gaap_df[tmp_us_gaap_df['label']==label]['units'][0])\n",
    "print(label)\n",
    "print(tmp_us_gaap_df[tmp_us_gaap_df['label']==label]['label'][0])\n",
    "print(tmp_us_gaap_df[tmp_us_gaap_df['label']==label]['description'][0])\n",
    "print(data_df)"
   ]
  }
 ],
 "metadata": {
  "kernelspec": {
   "display_name": "Python 3",
   "language": "python",
   "name": "python3"
  },
  "language_info": {
   "codemirror_mode": {
    "name": "ipython",
    "version": 3
   },
   "file_extension": ".py",
   "mimetype": "text/x-python",
   "name": "python",
   "nbconvert_exporter": "python",
   "pygments_lexer": "ipython3",
   "version": "3.10.12"
  },
  "orig_nbformat": 4
 },
 "nbformat": 4,
 "nbformat_minor": 2
}
